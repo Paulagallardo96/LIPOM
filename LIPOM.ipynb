{
 "cells": [
  {
   "cell_type": "code",
   "execution_count": 1,
   "metadata": {},
   "outputs": [],
   "source": [
    "#import the library used to query a website\n",
    "\n",
    "from bs4 import BeautifulSoup"
   ]
  },
  {
   "cell_type": "code",
   "execution_count": 2,
   "metadata": {},
   "outputs": [],
   "source": [
    "#import the library used to query a website\n",
    "import urllib.request \n",
    "from urllib.request import urlopen"
   ]
  },
  {
   "cell_type": "code",
   "execution_count": 3,
   "metadata": {},
   "outputs": [],
   "source": [
    "#specify the url\n",
    "LIPOM = 'https://www.linkedin.com/sales/search/people?geo=us%3A8-2-0-1-2&logHistory=false&logId=2720461526&page=1&searchSessionId=lSQqjsrRR3WcAuMy%2FrRTtw%3D%3D&seniority=7%2C8%2C10%2C9'"
   ]
  },
  {
   "cell_type": "code",
   "execution_count": 4,
   "metadata": {},
   "outputs": [
    {
     "data": {
      "text/plain": [
       "<http.client.HTTPResponse at 0x113ef3908>"
      ]
     },
     "execution_count": 4,
     "metadata": {},
     "output_type": "execute_result"
    }
   ],
   "source": [
    "#Query the website and return the html to the variable 'page'\n",
    "page = urlopen(LIPOM)\n",
    "page"
   ]
  },
  {
   "cell_type": "code",
   "execution_count": 5,
   "metadata": {},
   "outputs": [
    {
     "name": "stderr",
     "output_type": "stream",
     "text": [
      "/Users/paulaamandagallardo/anaconda3/envs/PythonData/lib/python3.6/site-packages/bs4/__init__.py:181: UserWarning: No parser was explicitly specified, so I'm using the best available HTML parser for this system (\"lxml\"). This usually isn't a problem, but if you run this code on another system, or in a different virtual environment, it may use a different parser and behave differently.\n",
      "\n",
      "The code that caused this warning is on line 193 of the file /Users/paulaamandagallardo/anaconda3/envs/PythonData/lib/python3.6/runpy.py. To get rid of this warning, change code that looks like this:\n",
      "\n",
      " BeautifulSoup(YOUR_MARKUP})\n",
      "\n",
      "to this:\n",
      "\n",
      " BeautifulSoup(YOUR_MARKUP, \"lxml\")\n",
      "\n",
      "  markup_type=markup_type))\n"
     ]
    },
    {
     "data": {
      "text/plain": [
       "<!DOCTYPE html>\n",
       "<html lang=\"en\">\n",
       "<head>\n",
       "<meta charset=\"utf-8\"/>\n",
       "<meta content=\"IE=edge\" http-equiv=\"X-UA-Compatible\"/>\n",
       "<title>Sales Navigator</title>\n",
       "<meta content=\"\" name=\"description\"/>\n",
       "<meta content=\"width=device-width, initial-scale=1\" name=\"viewport\"/>\n",
       "<meta content=\"%7B%22alternativeId%22%3A%22originalId%22%2C%22modulePrefix%22%3A%22lighthouse-web%22%2C%22environment%22%3A%22production%22%2C%22rootURL%22%3A%22/%22%2C%22locationType%22%3A%22router-scroll%22%2C%22historySupportMiddleware%22%3Atrue%2C%22EmberENV%22%3A%7B%22FEATURES%22%3A%7B%7D%2C%22EXTEND_PROTOTYPES%22%3A%7B%22Date%22%3Afalse%7D%7D%2C%22APP%22%3A%7B%22rumConfig%22%3A%7B%22pageKeyPrefix%22%3A%22d_%22%2C%22beacon-service%22%3A%22tracking%22%2C%22beacon-url%22%3A%22/li/track%22%2C%22event-name%22%3A%22RealUserMonitoringEvent%22%7D%2C%22name%22%3A%22lighthouse-web%22%2C%22version%22%3A%22lighthouse-web_0.2.242%22%7D%2C%22eyeglass%22%3A%7B%22cssDir%22%3A%22assets%22%2C%22relativeAssets%22%3Afalse%7D%2C%22changeTracker%22%3A%7B%22auto%22%3Afalse%2C%22trackHasMany%22%3Afalse%7D%2C%22contentSecurityPolicy%22%3A%7B%22default-src%22%3A%22%27none%27%20*.licdn.com%20*.licdn-ei.com%22%2C%22script-src%22%3A%22%27self%27%20*.licdn.com%20*.licdn-ei.com%22%2C%22font-src%22%3A%22%27self%27%20*.licdn.com%20*.licdn-ei.com%22%2C%22connect-src%22%3A%22%27self%27%20localhost%3A*%22%2C%22img-src%22%3A%22%27self%27%20*.licdn.com%20*.licdn-ei.com%22%2C%22style-src%22%3A%22%27self%27%20%27unsafe-inline%27%20*.licdn.com%20*.licdn-ei.com%22%2C%22media-src%22%3A%22%27self%27%20*.licdn.com%20*.licdn-ei.com%22%7D%2C%22tracking%22%3A%7B%22appId%22%3A%22com.linkedin.sales2.d_web%22%2C%22topicPrefix%22%3A%22%22%2C%22pageKeyPrefix%22%3A%22d_%22%2C%22pveTrackingInfo%22%3A%7B%22osName%22%3A%22desktop%22%7D%2C%22comScore%22%3A%7B%22enabled%22%3Afalse%7D%7D%2C%22lix%22%3A%7B%22tests%22%3A%5B%22lss-grandfather-pro-crm-sync%22%2C%22lss-admin-crm-sync%22%2C%22lss-sso-idp%22%2C%22lss-notification-center%22%2C%22lss-inbox-attachment%22%2C%22lss-ep-integration%22%2C%22lss-inbox-assistant%22%2C%22lss-inbox-archive-mark-as-read%22%2C%22lss-vector-attachment%22%2C%22lss-productivity-dealbook%22%2C%22lss-productivity-dealspace%22%2C%22lss-productivity-fieldvalidation%22%2C%22lss-company-orion%22%2C%22lss-profile-dossier%22%2C%22lss-out-of-inbox-overlay%22%2C%22lss-search-frank%22%2C%22lss-reports-to%22%2C%22lss-reports-to-typeahead%22%2C%22lss-account-center%22%2C%22profile-decoration.fetch.sales.navigator.info.for.contract%22%2C%22lss-project-negative%22%2C%22lss-admin-settings-crm-stat%22%2C%22lss-enable-admin-settings-crm-purge%22%2C%22lss-admin-settings-crm-sync-calls%22%2C%22lss-admin-settings-roi%22%2C%22lss-admin-settings-sso-csv%22%2C%22lss-crm-dynamics%22%2C%22lss-crm-writeback-presentation-view%22%2C%22lss-ads-integration%22%2C%22lss-enterprise-primary-identity%22%2C%22lss-seat-transfer%22%2C%22lss-seat-transfer-cancel%22%2C%22lss-snap-crm-message%22%2C%22lss-crm-access-override%22%2C%22lss-snap-custom-lists%22%2C%22lss-lists-ranger%22%2C%22lss-desktop-internal-feedback%22%2C%22lss-crm-sync-error-handling%22%2C%22lss-nav-chrome-admin-crm-sync-flag%22%2C%22lss-user-completion-meter%22%2C%22lss-enable-onboarding%22%2C%22lss-relationship-strength-account%22%5D%7D%2C%22ember-cli-mirage%22%3A%7B%22enabled%22%3Afalse%2C%22directory%22%3A%22mirage%22%2C%22usingProxy%22%3Afalse%2C%22useDefaultPassthroughs%22%3Atrue%7D%2C%22contentSecurityPolicyHeader%22%3A%22Content-Security-Policy-Report-Only%22%2C%22exportApplicationGlobal%22%3Afalse%2C%22appVersion%22%3A%220.2.*%22%2C%22ember-collapsible-panel%22%3A%7B%7D%7D\" name=\"lighthouse-web/config/environment\"/>\n",
       "<link href=\"https://static.licdn.com/sc/h/8cid09dn4abwh9sygrmp48elf\" id=\"favicon-ico\" rel=\"shortcut icon\"/>\n",
       "<link href=\"https://static.licdn.com/sc/h/3w39iyg1mpqyl92x6w8hks3l\" rel=\"apple-touch-icon\"/>\n",
       "<link href=\"https://static.licdn.com/sc/h/bcssjypnzzvcuv91woopiackr\" rel=\"apple-touch-icon-precomposed\"/>\n",
       "<link href=\"https://static.licdn.com/sc/h/ex80ountgx6vpj28b7ghe39bw\" rel=\"apple-touch-icon-precomposed\" sizes=\"57x57\"/>\n",
       "<link href=\"https://static.licdn.com/sc/h/1uls7lnzcc4o1kw0nspe2spdc\" rel=\"apple-touch-icon-precomposed\" sizes=\"144x144\"/>\n",
       "<link href=\"https://static.licdn.com/sc/h/3048646n4o6schwbjks7squpg\" rel=\"stylesheet\"/>\n",
       "<link href=\"https://static.licdn.com/sc/h/4lkjdkoswm9exg5pfnrjw6736\" rel=\"stylesheet\"/>\n",
       "<meta content=\"{}\" name=\"spark/hash-includes\"/>\n",
       "<meta content=\"en_US\" name=\"i18nDefaultLocale\"/>\n",
       "<meta content=\"en_US\" name=\"i18nLocale\"/>\n",
       "<meta content=\"https://static.licdn.com/sc/h/9ltxyolcramrnctst4uuxicwa\" name=\"i18nIntlPolyfillUrl\"/>\n",
       "<meta content=\"us\" name=\"requestIpCountryCode\"/>\n",
       "<meta content=\"urn:li:page:bpr;RBxycxj/SY+23BokvBFpFA==\" name=\"bprPageInstance\"/>\n",
       "<meta content='{\"applicationUrn\": \"urn:li:application:(lighthouse-web,lighthouse-web)\", \"version\": \"0.2.242\", \"trackingId\": [43, 9, 4, -85, -3, -15, 74, -116, -107, 20, -122, -38, -64, 68, 48, -108]}' name=\"applicationInstance\"/>\n",
       "<meta content=\"CXS+wyavQwi7K1kUKFgiJQ==\" name=\"clientPageInstanceId\"/>\n",
       "<meta content=\"lighthouse-web\" name=\"service\"/>\n",
       "<meta content=\"i001\" name=\"serviceInstance\"/>\n",
       "<meta content=\"0.2.242\" name=\"serviceVersion\"/>\n",
       "<meta content='{\"lix\":{\"lss-crm-sync-error-handling\":{\"treatment\":\"control\",\"testKey\":\"lss-crm-sync-error-handling\",\"trackingInfo\":null},\"lss-seat-transfer\":{\"treatment\":\"enabled\",\"testKey\":\"lss-seat-transfer\",\"trackingInfo\":null},\"lss-admin-settings-crm-stat\":{\"treatment\":\"enabled\",\"testKey\":\"lss-admin-settings-crm-stat\",\"trackingInfo\":null},\"lss-profile-dossier\":{\"treatment\":\"enabled\",\"testKey\":\"lss-profile-dossier\",\"trackingInfo\":null},\"lss-notification-center\":{\"treatment\":\"control\",\"testKey\":\"lss-notification-center\",\"trackingInfo\":null},\"lss-ads-integration\":{\"treatment\":\"control\",\"testKey\":\"lss-ads-integration\",\"trackingInfo\":null},\"lss-snap-crm-message\":{\"treatment\":\"control\",\"testKey\":\"lss-snap-crm-message\",\"trackingInfo\":null},\"lss-crm-access-override\":{\"treatment\":\"control\",\"testKey\":\"lss-crm-access-override\",\"trackingInfo\":null},\"lss-productivity-dealbook\":{\"treatment\":\"enabled\",\"testKey\":\"lss-productivity-dealbook\",\"trackingInfo\":null},\"lss-lists-ranger\":{\"treatment\":\"control\",\"testKey\":\"lss-lists-ranger\",\"trackingInfo\":null},\"lss-enable-onboarding\":{\"treatment\":\"control\",\"testKey\":\"lss-enable-onboarding\",\"trackingInfo\":null},\"lss-inbox-attachment\":{\"treatment\":\"enabled\",\"testKey\":\"lss-inbox-attachment\",\"trackingInfo\":null},\"lss-search-frank\":{\"treatment\":\"enabled\",\"testKey\":\"lss-search-frank\",\"trackingInfo\":null},\"lss-admin-settings-sso-csv\":{\"treatment\":\"enabled\",\"testKey\":\"lss-admin-settings-sso-csv\",\"trackingInfo\":null},\"lss-sso-idp\":{\"treatment\":\"control\",\"testKey\":\"lss-sso-idp\",\"trackingInfo\":null},\"lss-vector-attachment\":{\"treatment\":\"enabled\",\"testKey\":\"lss-vector-attachment\",\"trackingInfo\":null},\"lss-admin-settings-roi\":{\"treatment\":\"enabled\",\"testKey\":\"lss-admin-settings-roi\",\"trackingInfo\":null},\"lss-relationship-strength-account\":{\"treatment\":\"control\",\"testKey\":\"lss-relationship-strength-account\",\"trackingInfo\":null},\"lss-seat-transfer-cancel\":{\"treatment\":\"enabled\",\"testKey\":\"lss-seat-transfer-cancel\",\"trackingInfo\":null},\"lss-desktop-internal-feedback\":{\"treatment\":\"control\",\"testKey\":\"lss-desktop-internal-feedback\",\"trackingInfo\":null},\"profile-decoration.fetch.sales.navigator.info.for.contract\":{\"treatment\":\"enable\",\"testKey\":\"profile-decoration.fetch.sales.navigator.info.for.contract\",\"trackingInfo\":null},\"lss-crm-dynamics\":{\"treatment\":\"enabled\",\"testKey\":\"lss-crm-dynamics\",\"trackingInfo\":null},\"lss-nav-chrome-admin-crm-sync-flag\":{\"treatment\":\"control\",\"testKey\":\"lss-nav-chrome-admin-crm-sync-flag\",\"trackingInfo\":null},\"lss-productivity-fieldvalidation\":{\"treatment\":\"control\",\"testKey\":\"lss-productivity-fieldvalidation\",\"trackingInfo\":null},\"lss-project-negative\":{\"treatment\":\"enabled\",\"testKey\":\"lss-project-negative\",\"trackingInfo\":null},\"lss-inbox-archive-mark-as-read\":{\"treatment\":\"enabled\",\"testKey\":\"lss-inbox-archive-mark-as-read\",\"trackingInfo\":null},\"lss-out-of-inbox-overlay\":{\"treatment\":\"enabled\",\"testKey\":\"lss-out-of-inbox-overlay\",\"trackingInfo\":null},\"lss-enterprise-primary-identity\":{\"treatment\":\"enabled\",\"testKey\":\"lss-enterprise-primary-identity\",\"trackingInfo\":null},\"lss-snap-custom-lists\":{\"treatment\":\"control\",\"testKey\":\"lss-snap-custom-lists\",\"trackingInfo\":null},\"lss-reports-to\":{\"treatment\":\"control\",\"testKey\":\"lss-reports-to\",\"trackingInfo\":null},\"lss-reports-to-typeahead\":{\"treatment\":\"control\",\"testKey\":\"lss-reports-to-typeahead\",\"trackingInfo\":null},\"lss-admin-crm-sync\":{\"treatment\":\"enabled\",\"testKey\":\"lss-admin-crm-sync\",\"trackingInfo\":null},\"lss-productivity-dealspace\":{\"treatment\":\"control\",\"testKey\":\"lss-productivity-dealspace\",\"trackingInfo\":null},\"lss-grandfather-pro-crm-sync\":{\"treatment\":\"control\",\"testKey\":\"lss-grandfather-pro-crm-sync\",\"trackingInfo\":null},\"lss-crm-writeback-presentation-view\":{\"treatment\":\"control\",\"testKey\":\"lss-crm-writeback-presentation-view\",\"trackingInfo\":null},\"lss-account-center\":{\"treatment\":\"control\",\"testKey\":\"lss-account-center\",\"trackingInfo\":null},\"lss-user-completion-meter\":{\"treatment\":\"control\",\"testKey\":\"lss-user-completion-meter\",\"trackingInfo\":null},\"lss-company-orion\":{\"treatment\":\"enabled\",\"testKey\":\"lss-company-orion\",\"trackingInfo\":null},\"lss-admin-settings-crm-sync-calls\":{\"treatment\":\"control\",\"testKey\":\"lss-admin-settings-crm-sync-calls\",\"trackingInfo\":null},\"lss-inbox-assistant\":{\"treatment\":\"enabled\",\"testKey\":\"lss-inbox-assistant\",\"trackingInfo\":null},\"lss-enable-admin-settings-crm-purge\":{\"treatment\":\"control\",\"testKey\":\"lss-enable-admin-settings-crm-purge\",\"trackingInfo\":null},\"lss-ep-integration\":{\"treatment\":\"enabled\",\"testKey\":\"lss-ep-integration\",\"trackingInfo\":null}}}' name=\"__init\"/>\n",
       "<meta content=\"true\" name=\"isGuest\"/>\n",
       "<meta data-mode=\"BIGPIPE\" name=\"renderingMode\"/>\n",
       "<meta content=\"5000\" name=\"bigpipeResponseTimeout\"/>\n",
       "<meta content=\"false\" name=\"bigpipeJetRethrowError\"/>\n",
       "<meta content='[\"static\\\\.licdn\\\\.com\",\"media\\\\.licdn\\\\.com\",\"voyager/api/typeahead/hits\"]' name=\"bigpipeBlacklistUrls\"/>\n",
       "<script src=\"https://static.licdn.com/sc/h/19ve6donyzexasu6ua69vhca5\"></script>\n",
       "<meta content=\"0RyhYUM2YhWgBC6E0yoAAA==\" name=\"treeID\"/>\n",
       "<meta content=\"https://static.licdn.com/sc/h/2f3rgdd5asit4ixdputoex4ny\" id=\"artdeco/static/images/icons.svg\" name=\"asset-url\"/>\n",
       "<style>\n",
       "      .initial-load-animation {\n",
       "        padding-top: 96px;\n",
       "        width: 200px;\n",
       "        margin: 0 auto;\n",
       "        transform: scale(1);\n",
       "        transition: transform .5s ease;\n",
       "      }\n",
       "      .salesnav-image {\n",
       "        background-image: url('https://static.licdn.com/sc/h/v4ody32j7r2zqlkj9lxg96x3');\n",
       "        height: 55px;\n",
       "        width: 55px;\n",
       "        margin: 0 auto;\n",
       "        margin-bottom: 32px;\n",
       "        transform: translate(0, 0);\n",
       "        opacity: 1;\n",
       "        transition: all .5s ease-out;\n",
       "      }\n",
       "      .loading-bar {\n",
       "        width: 130px;\n",
       "        height: 2px;\n",
       "        margin: 0 auto;\n",
       "        border-radius: 2px;\n",
       "        background-color: #CFCFCF;\n",
       "        position: relative;\n",
       "        overflow: hidden;\n",
       "        z-index: 1;\n",
       "        transform: rotateY(0);\n",
       "        transition: transform .3s ease-in;\n",
       "      }\n",
       "      .blue-bar {\n",
       "        height: 100%;\n",
       "        width: 68px;\n",
       "        position: absolute;\n",
       "        transform: translate(-34px, 0);\n",
       "        background-color: #0073B1;\n",
       "        border-radius: 2px;\n",
       "        animation: initial-loading 1.5s infinite ease;\n",
       "      }\n",
       "      @keyframes initial-loading {\n",
       "        0% {\n",
       "          transform: translate(-34px, 0);\n",
       "        }\n",
       "        50% {\n",
       "          transform: translate(96px, 0);\n",
       "        }\n",
       "        100% {\n",
       "          transform: translate(-34px, 0);\n",
       "        }\n",
       "      }\n",
       "      .boot-complete .initial-loading-state,\n",
       "      .hide-loading.initial-loading-state {\n",
       "        display: none;\n",
       "      }\n",
       "    </style>\n",
       "</head>\n",
       "<body>\n",
       "<div class=\"initial-loading-state\">\n",
       "<div class=\"initial-load-animation\">\n",
       "<div class=\"salesnav-image\"></div>\n",
       "<div class=\"loading-bar\">\n",
       "<div class=\"blue-bar\"></div>\n",
       "</div>\n",
       "</div>\n",
       "</div>\n",
       "<div id=\"artdeco-modal-outlet\"></div>\n",
       "<script src=\"https://static.licdn.com/sc/h/5nl21ks3hr1ojevzl9hh04buq,4zcpyj48u0f2cdrsgkhm2d23i\"></script>\n",
       "<script src=\"https://static.licdn.com/sc/h/43v5czo8iz6kpwn2ox8u2910s\"></script>\n",
       "<script src=\"https://static.licdn.com/sc/h/xh1fvbt4lemzusd644cg7284,6w7xmhqmdlqurkorbyn2z7tms,c8vpxrqeuungk9ws6w5bca3sb\"></script>\n",
       "<div id=\"ember-basic-dropdown-wormhole\"></div>\n",
       "<code id=\"clientPageInstance\" style=\"display: none\">\n",
       "  urn:li:page:d_sales2_login;CXS+wyavQwi7K1kUKFgiJQ==\n",
       "</code>\n",
       "<img class=\"terminatorlet\" src=\"data:image/gif;base64,R0lGODlhAQABAIAAAAAAAP///yH5BAEAAAAALAAAAAABAAEAAAIBRAA7\" style=\"display: none\"/>\n",
       "</body>\n",
       "</html>"
      ]
     },
     "execution_count": 5,
     "metadata": {},
     "output_type": "execute_result"
    }
   ],
   "source": [
    "#Parse the html in the 'page' variable, and store it in Beautiful Soup format\n",
    "soup = BeautifulSoup(page)\n",
    "soup"
   ]
  },
  {
   "cell_type": "code",
   "execution_count": 6,
   "metadata": {},
   "outputs": [
    {
     "name": "stdout",
     "output_type": "stream",
     "text": [
      "<!DOCTYPE html>\n",
      "<html lang=\"en\">\n",
      " <head>\n",
      "  <meta charset=\"utf-8\"/>\n",
      "  <meta content=\"IE=edge\" http-equiv=\"X-UA-Compatible\"/>\n",
      "  <title>\n",
      "   Sales Navigator\n",
      "  </title>\n",
      "  <meta content=\"\" name=\"description\"/>\n",
      "  <meta content=\"width=device-width, initial-scale=1\" name=\"viewport\"/>\n",
      "  <meta content=\"%7B%22alternativeId%22%3A%22originalId%22%2C%22modulePrefix%22%3A%22lighthouse-web%22%2C%22environment%22%3A%22production%22%2C%22rootURL%22%3A%22/%22%2C%22locationType%22%3A%22router-scroll%22%2C%22historySupportMiddleware%22%3Atrue%2C%22EmberENV%22%3A%7B%22FEATURES%22%3A%7B%7D%2C%22EXTEND_PROTOTYPES%22%3A%7B%22Date%22%3Afalse%7D%7D%2C%22APP%22%3A%7B%22rumConfig%22%3A%7B%22pageKeyPrefix%22%3A%22d_%22%2C%22beacon-service%22%3A%22tracking%22%2C%22beacon-url%22%3A%22/li/track%22%2C%22event-name%22%3A%22RealUserMonitoringEvent%22%7D%2C%22name%22%3A%22lighthouse-web%22%2C%22version%22%3A%22lighthouse-web_0.2.242%22%7D%2C%22eyeglass%22%3A%7B%22cssDir%22%3A%22assets%22%2C%22relativeAssets%22%3Afalse%7D%2C%22changeTracker%22%3A%7B%22auto%22%3Afalse%2C%22trackHasMany%22%3Afalse%7D%2C%22contentSecurityPolicy%22%3A%7B%22default-src%22%3A%22%27none%27%20*.licdn.com%20*.licdn-ei.com%22%2C%22script-src%22%3A%22%27self%27%20*.licdn.com%20*.licdn-ei.com%22%2C%22font-src%22%3A%22%27self%27%20*.licdn.com%20*.licdn-ei.com%22%2C%22connect-src%22%3A%22%27self%27%20localhost%3A*%22%2C%22img-src%22%3A%22%27self%27%20*.licdn.com%20*.licdn-ei.com%22%2C%22style-src%22%3A%22%27self%27%20%27unsafe-inline%27%20*.licdn.com%20*.licdn-ei.com%22%2C%22media-src%22%3A%22%27self%27%20*.licdn.com%20*.licdn-ei.com%22%7D%2C%22tracking%22%3A%7B%22appId%22%3A%22com.linkedin.sales2.d_web%22%2C%22topicPrefix%22%3A%22%22%2C%22pageKeyPrefix%22%3A%22d_%22%2C%22pveTrackingInfo%22%3A%7B%22osName%22%3A%22desktop%22%7D%2C%22comScore%22%3A%7B%22enabled%22%3Afalse%7D%7D%2C%22lix%22%3A%7B%22tests%22%3A%5B%22lss-grandfather-pro-crm-sync%22%2C%22lss-admin-crm-sync%22%2C%22lss-sso-idp%22%2C%22lss-notification-center%22%2C%22lss-inbox-attachment%22%2C%22lss-ep-integration%22%2C%22lss-inbox-assistant%22%2C%22lss-inbox-archive-mark-as-read%22%2C%22lss-vector-attachment%22%2C%22lss-productivity-dealbook%22%2C%22lss-productivity-dealspace%22%2C%22lss-productivity-fieldvalidation%22%2C%22lss-company-orion%22%2C%22lss-profile-dossier%22%2C%22lss-out-of-inbox-overlay%22%2C%22lss-search-frank%22%2C%22lss-reports-to%22%2C%22lss-reports-to-typeahead%22%2C%22lss-account-center%22%2C%22profile-decoration.fetch.sales.navigator.info.for.contract%22%2C%22lss-project-negative%22%2C%22lss-admin-settings-crm-stat%22%2C%22lss-enable-admin-settings-crm-purge%22%2C%22lss-admin-settings-crm-sync-calls%22%2C%22lss-admin-settings-roi%22%2C%22lss-admin-settings-sso-csv%22%2C%22lss-crm-dynamics%22%2C%22lss-crm-writeback-presentation-view%22%2C%22lss-ads-integration%22%2C%22lss-enterprise-primary-identity%22%2C%22lss-seat-transfer%22%2C%22lss-seat-transfer-cancel%22%2C%22lss-snap-crm-message%22%2C%22lss-crm-access-override%22%2C%22lss-snap-custom-lists%22%2C%22lss-lists-ranger%22%2C%22lss-desktop-internal-feedback%22%2C%22lss-crm-sync-error-handling%22%2C%22lss-nav-chrome-admin-crm-sync-flag%22%2C%22lss-user-completion-meter%22%2C%22lss-enable-onboarding%22%2C%22lss-relationship-strength-account%22%5D%7D%2C%22ember-cli-mirage%22%3A%7B%22enabled%22%3Afalse%2C%22directory%22%3A%22mirage%22%2C%22usingProxy%22%3Afalse%2C%22useDefaultPassthroughs%22%3Atrue%7D%2C%22contentSecurityPolicyHeader%22%3A%22Content-Security-Policy-Report-Only%22%2C%22exportApplicationGlobal%22%3Afalse%2C%22appVersion%22%3A%220.2.*%22%2C%22ember-collapsible-panel%22%3A%7B%7D%7D\" name=\"lighthouse-web/config/environment\"/>\n",
      "  <link href=\"https://static.licdn.com/sc/h/8cid09dn4abwh9sygrmp48elf\" id=\"favicon-ico\" rel=\"shortcut icon\"/>\n",
      "  <link href=\"https://static.licdn.com/sc/h/3w39iyg1mpqyl92x6w8hks3l\" rel=\"apple-touch-icon\"/>\n",
      "  <link href=\"https://static.licdn.com/sc/h/bcssjypnzzvcuv91woopiackr\" rel=\"apple-touch-icon-precomposed\"/>\n",
      "  <link href=\"https://static.licdn.com/sc/h/ex80ountgx6vpj28b7ghe39bw\" rel=\"apple-touch-icon-precomposed\" sizes=\"57x57\"/>\n",
      "  <link href=\"https://static.licdn.com/sc/h/1uls7lnzcc4o1kw0nspe2spdc\" rel=\"apple-touch-icon-precomposed\" sizes=\"144x144\"/>\n",
      "  <link href=\"https://static.licdn.com/sc/h/3048646n4o6schwbjks7squpg\" rel=\"stylesheet\"/>\n",
      "  <link href=\"https://static.licdn.com/sc/h/4lkjdkoswm9exg5pfnrjw6736\" rel=\"stylesheet\"/>\n",
      "  <meta content=\"{}\" name=\"spark/hash-includes\"/>\n",
      "  <meta content=\"en_US\" name=\"i18nDefaultLocale\"/>\n",
      "  <meta content=\"en_US\" name=\"i18nLocale\"/>\n",
      "  <meta content=\"https://static.licdn.com/sc/h/9ltxyolcramrnctst4uuxicwa\" name=\"i18nIntlPolyfillUrl\"/>\n",
      "  <meta content=\"us\" name=\"requestIpCountryCode\"/>\n",
      "  <meta content=\"urn:li:page:bpr;RBxycxj/SY+23BokvBFpFA==\" name=\"bprPageInstance\"/>\n",
      "  <meta content='{\"applicationUrn\": \"urn:li:application:(lighthouse-web,lighthouse-web)\", \"version\": \"0.2.242\", \"trackingId\": [43, 9, 4, -85, -3, -15, 74, -116, -107, 20, -122, -38, -64, 68, 48, -108]}' name=\"applicationInstance\"/>\n",
      "  <meta content=\"CXS+wyavQwi7K1kUKFgiJQ==\" name=\"clientPageInstanceId\"/>\n",
      "  <meta content=\"lighthouse-web\" name=\"service\"/>\n",
      "  <meta content=\"i001\" name=\"serviceInstance\"/>\n",
      "  <meta content=\"0.2.242\" name=\"serviceVersion\"/>\n",
      "  <meta content='{\"lix\":{\"lss-crm-sync-error-handling\":{\"treatment\":\"control\",\"testKey\":\"lss-crm-sync-error-handling\",\"trackingInfo\":null},\"lss-seat-transfer\":{\"treatment\":\"enabled\",\"testKey\":\"lss-seat-transfer\",\"trackingInfo\":null},\"lss-admin-settings-crm-stat\":{\"treatment\":\"enabled\",\"testKey\":\"lss-admin-settings-crm-stat\",\"trackingInfo\":null},\"lss-profile-dossier\":{\"treatment\":\"enabled\",\"testKey\":\"lss-profile-dossier\",\"trackingInfo\":null},\"lss-notification-center\":{\"treatment\":\"control\",\"testKey\":\"lss-notification-center\",\"trackingInfo\":null},\"lss-ads-integration\":{\"treatment\":\"control\",\"testKey\":\"lss-ads-integration\",\"trackingInfo\":null},\"lss-snap-crm-message\":{\"treatment\":\"control\",\"testKey\":\"lss-snap-crm-message\",\"trackingInfo\":null},\"lss-crm-access-override\":{\"treatment\":\"control\",\"testKey\":\"lss-crm-access-override\",\"trackingInfo\":null},\"lss-productivity-dealbook\":{\"treatment\":\"enabled\",\"testKey\":\"lss-productivity-dealbook\",\"trackingInfo\":null},\"lss-lists-ranger\":{\"treatment\":\"control\",\"testKey\":\"lss-lists-ranger\",\"trackingInfo\":null},\"lss-enable-onboarding\":{\"treatment\":\"control\",\"testKey\":\"lss-enable-onboarding\",\"trackingInfo\":null},\"lss-inbox-attachment\":{\"treatment\":\"enabled\",\"testKey\":\"lss-inbox-attachment\",\"trackingInfo\":null},\"lss-search-frank\":{\"treatment\":\"enabled\",\"testKey\":\"lss-search-frank\",\"trackingInfo\":null},\"lss-admin-settings-sso-csv\":{\"treatment\":\"enabled\",\"testKey\":\"lss-admin-settings-sso-csv\",\"trackingInfo\":null},\"lss-sso-idp\":{\"treatment\":\"control\",\"testKey\":\"lss-sso-idp\",\"trackingInfo\":null},\"lss-vector-attachment\":{\"treatment\":\"enabled\",\"testKey\":\"lss-vector-attachment\",\"trackingInfo\":null},\"lss-admin-settings-roi\":{\"treatment\":\"enabled\",\"testKey\":\"lss-admin-settings-roi\",\"trackingInfo\":null},\"lss-relationship-strength-account\":{\"treatment\":\"control\",\"testKey\":\"lss-relationship-strength-account\",\"trackingInfo\":null},\"lss-seat-transfer-cancel\":{\"treatment\":\"enabled\",\"testKey\":\"lss-seat-transfer-cancel\",\"trackingInfo\":null},\"lss-desktop-internal-feedback\":{\"treatment\":\"control\",\"testKey\":\"lss-desktop-internal-feedback\",\"trackingInfo\":null},\"profile-decoration.fetch.sales.navigator.info.for.contract\":{\"treatment\":\"enable\",\"testKey\":\"profile-decoration.fetch.sales.navigator.info.for.contract\",\"trackingInfo\":null},\"lss-crm-dynamics\":{\"treatment\":\"enabled\",\"testKey\":\"lss-crm-dynamics\",\"trackingInfo\":null},\"lss-nav-chrome-admin-crm-sync-flag\":{\"treatment\":\"control\",\"testKey\":\"lss-nav-chrome-admin-crm-sync-flag\",\"trackingInfo\":null},\"lss-productivity-fieldvalidation\":{\"treatment\":\"control\",\"testKey\":\"lss-productivity-fieldvalidation\",\"trackingInfo\":null},\"lss-project-negative\":{\"treatment\":\"enabled\",\"testKey\":\"lss-project-negative\",\"trackingInfo\":null},\"lss-inbox-archive-mark-as-read\":{\"treatment\":\"enabled\",\"testKey\":\"lss-inbox-archive-mark-as-read\",\"trackingInfo\":null},\"lss-out-of-inbox-overlay\":{\"treatment\":\"enabled\",\"testKey\":\"lss-out-of-inbox-overlay\",\"trackingInfo\":null},\"lss-enterprise-primary-identity\":{\"treatment\":\"enabled\",\"testKey\":\"lss-enterprise-primary-identity\",\"trackingInfo\":null},\"lss-snap-custom-lists\":{\"treatment\":\"control\",\"testKey\":\"lss-snap-custom-lists\",\"trackingInfo\":null},\"lss-reports-to\":{\"treatment\":\"control\",\"testKey\":\"lss-reports-to\",\"trackingInfo\":null},\"lss-reports-to-typeahead\":{\"treatment\":\"control\",\"testKey\":\"lss-reports-to-typeahead\",\"trackingInfo\":null},\"lss-admin-crm-sync\":{\"treatment\":\"enabled\",\"testKey\":\"lss-admin-crm-sync\",\"trackingInfo\":null},\"lss-productivity-dealspace\":{\"treatment\":\"control\",\"testKey\":\"lss-productivity-dealspace\",\"trackingInfo\":null},\"lss-grandfather-pro-crm-sync\":{\"treatment\":\"control\",\"testKey\":\"lss-grandfather-pro-crm-sync\",\"trackingInfo\":null},\"lss-crm-writeback-presentation-view\":{\"treatment\":\"control\",\"testKey\":\"lss-crm-writeback-presentation-view\",\"trackingInfo\":null},\"lss-account-center\":{\"treatment\":\"control\",\"testKey\":\"lss-account-center\",\"trackingInfo\":null},\"lss-user-completion-meter\":{\"treatment\":\"control\",\"testKey\":\"lss-user-completion-meter\",\"trackingInfo\":null},\"lss-company-orion\":{\"treatment\":\"enabled\",\"testKey\":\"lss-company-orion\",\"trackingInfo\":null},\"lss-admin-settings-crm-sync-calls\":{\"treatment\":\"control\",\"testKey\":\"lss-admin-settings-crm-sync-calls\",\"trackingInfo\":null},\"lss-inbox-assistant\":{\"treatment\":\"enabled\",\"testKey\":\"lss-inbox-assistant\",\"trackingInfo\":null},\"lss-enable-admin-settings-crm-purge\":{\"treatment\":\"control\",\"testKey\":\"lss-enable-admin-settings-crm-purge\",\"trackingInfo\":null},\"lss-ep-integration\":{\"treatment\":\"enabled\",\"testKey\":\"lss-ep-integration\",\"trackingInfo\":null}}}' name=\"__init\"/>\n",
      "  <meta content=\"true\" name=\"isGuest\"/>\n",
      "  <meta data-mode=\"BIGPIPE\" name=\"renderingMode\"/>\n",
      "  <meta content=\"5000\" name=\"bigpipeResponseTimeout\"/>\n",
      "  <meta content=\"false\" name=\"bigpipeJetRethrowError\"/>\n",
      "  <meta content='[\"static\\\\.licdn\\\\.com\",\"media\\\\.licdn\\\\.com\",\"voyager/api/typeahead/hits\"]' name=\"bigpipeBlacklistUrls\"/>\n",
      "  <script src=\"https://static.licdn.com/sc/h/19ve6donyzexasu6ua69vhca5\">\n",
      "  </script>\n",
      "  <meta content=\"0RyhYUM2YhWgBC6E0yoAAA==\" name=\"treeID\"/>\n",
      "  <meta content=\"https://static.licdn.com/sc/h/2f3rgdd5asit4ixdputoex4ny\" id=\"artdeco/static/images/icons.svg\" name=\"asset-url\"/>\n",
      "  <style>\n",
      "   .initial-load-animation {\n",
      "        padding-top: 96px;\n",
      "        width: 200px;\n",
      "        margin: 0 auto;\n",
      "        transform: scale(1);\n",
      "        transition: transform .5s ease;\n",
      "      }\n",
      "      .salesnav-image {\n",
      "        background-image: url('https://static.licdn.com/sc/h/v4ody32j7r2zqlkj9lxg96x3');\n",
      "        height: 55px;\n",
      "        width: 55px;\n",
      "        margin: 0 auto;\n",
      "        margin-bottom: 32px;\n",
      "        transform: translate(0, 0);\n",
      "        opacity: 1;\n",
      "        transition: all .5s ease-out;\n",
      "      }\n",
      "      .loading-bar {\n",
      "        width: 130px;\n",
      "        height: 2px;\n",
      "        margin: 0 auto;\n",
      "        border-radius: 2px;\n",
      "        background-color: #CFCFCF;\n",
      "        position: relative;\n",
      "        overflow: hidden;\n",
      "        z-index: 1;\n",
      "        transform: rotateY(0);\n",
      "        transition: transform .3s ease-in;\n",
      "      }\n",
      "      .blue-bar {\n",
      "        height: 100%;\n",
      "        width: 68px;\n",
      "        position: absolute;\n",
      "        transform: translate(-34px, 0);\n",
      "        background-color: #0073B1;\n",
      "        border-radius: 2px;\n",
      "        animation: initial-loading 1.5s infinite ease;\n",
      "      }\n",
      "      @keyframes initial-loading {\n",
      "        0% {\n",
      "          transform: translate(-34px, 0);\n",
      "        }\n",
      "        50% {\n",
      "          transform: translate(96px, 0);\n",
      "        }\n",
      "        100% {\n",
      "          transform: translate(-34px, 0);\n",
      "        }\n",
      "      }\n",
      "      .boot-complete .initial-loading-state,\n",
      "      .hide-loading.initial-loading-state {\n",
      "        display: none;\n",
      "      }\n",
      "  </style>\n",
      " </head>\n",
      " <body>\n",
      "  <div class=\"initial-loading-state\">\n",
      "   <div class=\"initial-load-animation\">\n",
      "    <div class=\"salesnav-image\">\n",
      "    </div>\n",
      "    <div class=\"loading-bar\">\n",
      "     <div class=\"blue-bar\">\n",
      "     </div>\n",
      "    </div>\n",
      "   </div>\n",
      "  </div>\n",
      "  <div id=\"artdeco-modal-outlet\">\n",
      "  </div>\n",
      "  <script src=\"https://static.licdn.com/sc/h/5nl21ks3hr1ojevzl9hh04buq,4zcpyj48u0f2cdrsgkhm2d23i\">\n",
      "  </script>\n",
      "  <script src=\"https://static.licdn.com/sc/h/43v5czo8iz6kpwn2ox8u2910s\">\n",
      "  </script>\n",
      "  <script src=\"https://static.licdn.com/sc/h/xh1fvbt4lemzusd644cg7284,6w7xmhqmdlqurkorbyn2z7tms,c8vpxrqeuungk9ws6w5bca3sb\">\n",
      "  </script>\n",
      "  <div id=\"ember-basic-dropdown-wormhole\">\n",
      "  </div>\n",
      "  <code id=\"clientPageInstance\" style=\"display: none\">\n",
      "   urn:li:page:d_sales2_login;CXS+wyavQwi7K1kUKFgiJQ==\n",
      "  </code>\n",
      "  <img class=\"terminatorlet\" src=\"data:image/gif;base64,R0lGODlhAQABAIAAAAAAAP///yH5BAEAAAAALAAAAAABAAEAAAIBRAA7\" style=\"display: none\"/>\n",
      " </body>\n",
      "</html>\n",
      "\n"
     ]
    }
   ],
   "source": [
    "print(soup.prettify())"
   ]
  },
  {
   "cell_type": "code",
   "execution_count": 7,
   "metadata": {},
   "outputs": [
    {
     "data": {
      "text/plain": [
       "<title>Sales Navigator</title>"
      ]
     },
     "execution_count": 7,
     "metadata": {},
     "output_type": "execute_result"
    }
   ],
   "source": [
    "soup.title"
   ]
  },
  {
   "cell_type": "code",
   "execution_count": 8,
   "metadata": {},
   "outputs": [
    {
     "data": {
      "text/plain": [
       "'Sales Navigator'"
      ]
     },
     "execution_count": 8,
     "metadata": {},
     "output_type": "execute_result"
    }
   ],
   "source": [
    "soup.title.string"
   ]
  },
  {
   "cell_type": "code",
   "execution_count": 9,
   "metadata": {},
   "outputs": [],
   "source": [
    "soup.a "
   ]
  },
  {
   "cell_type": "code",
   "execution_count": 10,
   "metadata": {},
   "outputs": [
    {
     "data": {
      "text/plain": [
       "[]"
      ]
     },
     "execution_count": 10,
     "metadata": {},
     "output_type": "execute_result"
    }
   ],
   "source": [
    "soup.findAll('dt class=\"result-lookup_name\"')"
   ]
  },
  {
   "cell_type": "code",
   "execution_count": 11,
   "metadata": {},
   "outputs": [],
   "source": [
    "all_links=soup.findAll('a')\n",
    "for link in all_links:\n",
    "    print(link.get(\"href\"))"
   ]
  },
  {
   "cell_type": "code",
   "execution_count": 12,
   "metadata": {},
   "outputs": [],
   "source": [
    "all_tables=soup.findAll('table')\n",
    "\n"
   ]
  },
  {
   "cell_type": "code",
   "execution_count": null,
   "metadata": {},
   "outputs": [],
   "source": []
  }
 ],
 "metadata": {
  "kernelspec": {
   "display_name": "Python 3",
   "language": "python",
   "name": "python3"
  },
  "language_info": {
   "codemirror_mode": {
    "name": "ipython",
    "version": 3
   },
   "file_extension": ".py",
   "mimetype": "text/x-python",
   "name": "python",
   "nbconvert_exporter": "python",
   "pygments_lexer": "ipython3",
   "version": "3.6.5"
  }
 },
 "nbformat": 4,
 "nbformat_minor": 2
}
